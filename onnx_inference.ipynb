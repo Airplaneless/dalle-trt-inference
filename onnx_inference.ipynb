{
 "cells": [
  {
   "cell_type": "code",
   "execution_count": 1,
   "metadata": {},
   "outputs": [],
   "source": [
    "import numpy\n",
    "import pylab as plt\n",
    "import json\n",
    "import torch\n",
    "import onnxruntime\n",
    "onnxruntime.disable_telemetry_events()\n",
    "from dalle import TextTokenizer\n",
    "\n",
    "import random\n",
    "random.seed(42)\n",
    "torch.manual_seed(42)\n",
    "torch.cuda.manual_seed(42)\n",
    "numpy.random.seed(42)\n",
    "\n",
    "def to_numpy(tensor):\n",
    "    if isinstance(tensor, numpy.ndarray):\n",
    "        return tensor\n",
    "    else:\n",
    "        return tensor.detach().cpu().numpy() if tensor.requires_grad else tensor.cpu().numpy()\n",
    "\n",
    "with open('models/vocab.json', 'r', encoding='utf8') as f:\n",
    "    vocab = json.load(f)\n",
    "with open('models/merges.txt', 'r', encoding='utf8') as f:\n",
    "    merges = f.read().split(\"\\n\")[1:-1]\n",
    "\n",
    "tokenizer = TextTokenizer(vocab, merges)"
   ]
  },
  {
   "cell_type": "code",
   "execution_count": 2,
   "metadata": {},
   "outputs": [],
   "source": [
    "image_count = 4\n",
    "tokens = tokenizer.tokenize('realistic cat head with sunglasses', is_verbose=False)[:64]\n",
    "text_tokens = numpy.ones((2, 64), dtype=numpy.int32)\n",
    "text_tokens[0, :2] = [tokens[0], tokens[-1]]\n",
    "text_tokens[1, :len(tokens)] = tokens\n",
    "text_tokens = torch.tensor(\n",
    "    text_tokens, \n",
    "    dtype=torch.long, \n",
    ")"
   ]
  },
  {
   "cell_type": "code",
   "execution_count": null,
   "metadata": {},
   "outputs": [
    {
     "ename": "",
     "evalue": "",
     "output_type": "error",
     "traceback": [
      "\u001b[1;31mThe Kernel crashed while executing code in the the current cell or a previous cell. Please review the code in the cell(s) to identify a possible cause of the failure. Click <a href='https://aka.ms/vscodeJupyterKernelCrash'>here</a> for more info. View Jupyter <a href='command:jupyter.viewOutput'>log</a> for further details."
     ]
    }
   ],
   "source": [
    "ort_session0 = onnxruntime.InferenceSession(\n",
    "    './onnx/encoder0/encoder0.onnx', \n",
    "    providers=['CUDAExecutionProvider', 'CPUExecutionProvider']\n",
    ")\n",
    "ort_session1 = onnxruntime.InferenceSession(\n",
    "    './onnx/encoder1/encoder1.onnx', \n",
    "    providers=['CUDAExecutionProvider', 'CPUExecutionProvider']\n",
    ")"
   ]
  },
  {
   "cell_type": "code",
   "execution_count": null,
   "metadata": {},
   "outputs": [],
   "source": [
    "ort_inputs = {ort_session.get_inputs()[0].name: to_numpy(text_tokens)}\n",
    "ort_outs = ort_session.run(None, ort_inputs)\n",
    "torch.save(torch.from_numpy(ort_outs[0]), '/tmp/tmp-dalle.pt')"
   ]
  },
  {
   "cell_type": "code",
   "execution_count": 3,
   "metadata": {},
   "outputs": [],
   "source": [
    "encoder_state = torch.load('/tmp/tmp-dalle.pt')\n",
    "with torch.cuda.amp.autocast(dtype=torch.float16) and torch.no_grad():\n",
    "    expanded_indices = [0] * image_count + [1] * image_count\n",
    "    text_tokens = text_tokens[expanded_indices]\n",
    "    encoder_state = encoder_state[expanded_indices].to(torch.float16)\n",
    "    attention_mask = text_tokens.not_equal(1)\n",
    "    attention_state = torch.zeros(size=(24, image_count * 4, 256, 2048), device='cpu').to(torch.float16)\n",
    "    image_tokens = torch.full((256 + 1, image_count), 16415, dtype=torch.long, device='cpu')\n",
    "    torch.manual_seed(0)\n",
    "    token_indices = torch.arange(256, device='cpu')\n",
    "    settings = torch.tensor([1.0, 256, 16.0], dtype=torch.float16, device='cpu')"
   ]
  },
  {
   "cell_type": "code",
   "execution_count": 4,
   "metadata": {},
   "outputs": [],
   "source": [
    "ort_session0 = onnxruntime.InferenceSession(\n",
    "    './onnx/decoder0/idecoder0.onnx',\n",
    "    providers=['CUDAExecutionProvider', 'CPUExecutionProvider']\n",
    ")\n",
    "ort_session1 = onnxruntime.InferenceSession(\n",
    "    './onnx/decoder1/idecoder1.onnx',\n",
    "    providers=['CUDAExecutionProvider', 'CPUExecutionProvider']\n",
    ")"
   ]
  },
  {
   "cell_type": "code",
   "execution_count": null,
   "metadata": {},
   "outputs": [],
   "source": [
    "from tqdm import tqdm\n",
    "\n",
    "for i in tqdm(range(256)):\n",
    "    ort_inputs = {\n",
    "        ort_session0.get_inputs()[i].name: to_numpy(x) for i,x in enumerate([\n",
    "            attention_mask, encoder_state, attention_state, image_tokens[i], token_indices[[i]]\n",
    "        ])\n",
    "    }\n",
    "    decoder_state, attention_state = [x for x in ort_session0.run(None, ort_inputs)]\n",
    "    ort_inputs = {\n",
    "        ort_session1.get_inputs()[i].name: to_numpy(x) for i,x in enumerate([\n",
    "            settings, attention_mask, encoder_state, decoder_state, attention_state, token_indices[[i]]\n",
    "        ])\n",
    "    }\n",
    "    image_tokens[i+1], attention_state = [torch.from_numpy(x) for x in ort_session1.run(None, ort_inputs)]"
   ]
  },
  {
   "cell_type": "code",
   "execution_count": null,
   "metadata": {},
   "outputs": [],
   "source": []
  }
 ],
 "metadata": {
  "interpreter": {
   "hash": "767d51c1340bd893661ea55ea3124f6de3c7a262a8b4abca0554b478b1e2ff90"
  },
  "kernelspec": {
   "display_name": "Python 3.10.5 64-bit",
   "language": "python",
   "name": "python3"
  },
  "language_info": {
   "codemirror_mode": {
    "name": "ipython",
    "version": 3
   },
   "file_extension": ".py",
   "mimetype": "text/x-python",
   "name": "python",
   "nbconvert_exporter": "python",
   "pygments_lexer": "ipython3",
   "version": "3.10.5"
  },
  "orig_nbformat": 4
 },
 "nbformat": 4,
 "nbformat_minor": 2
}
